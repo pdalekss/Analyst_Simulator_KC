{
 "cells": [
  {
   "cell_type": "markdown",
   "id": "abfed7fd",
   "metadata": {
    "pycharm": {
     "name": "#%% md\n"
    }
   },
   "source": [
    "Пришло время проанализировать результаты эксперимента, который мы провели вместе с командой дата сайентистов. Эксперимент проходил с 2022-11-02 по 2022-11-08 включительно. Для эксперимента были задействованы 2 и 1 группы. \n",
    "\n",
    "В группе 2 был использован один из новых алгоритмов рекомендации постов, группа 1 использовалась в качестве контроля. \n",
    "\n",
    "Основная гипотеза заключается в том, что новый алгоритм во 2-й группе приведет к увеличению CTR. \n",
    "\n",
    "### Ваша задача — проанализировать данные АB-теста. \n",
    "\n",
    "Выбрать метод анализа и сравнить CTR в двух группах (t-тест, Пуассоновский бутстреп, тест Манна-Уитни, t-тест на сглаженном ctr (α=5) а также t-тест и тест Манна-Уитни поверх бакетного преобразования).\n",
    "\n",
    "Сравните данные этими тестами. Почему тесты сработали так как сработали? \n",
    "\n",
    "Опишите потенциальную ситуацию, когда такое изменение могло произойти. \n",
    "\n",
    "Напишите рекомендацию, будем ли мы раскатывать новый алгоритм на всех новых пользователей или все-таки не стоит.\n"
   ]
  },
  {
   "cell_type": "code",
   "execution_count": 68,
   "id": "07fbba19",
   "metadata": {
    "pycharm": {
     "name": "#%%\n"
    }
   },
   "outputs": [],
   "source": [
    "import pandas as pd\n",
    "import pandahouse as ph\n",
    "import seaborn as sns\n",
    "import matplotlib.pyplot as plt\n",
    "import pingouin as pg\n",
    "import scipy.stats as st\n",
    "import numpy as np\n",
    "\n",
    "sns.set(font_scale=1.5)"
   ]
  },
  {
   "cell_type": "code",
   "execution_count": 1,
   "id": "a0a14ab0",
   "metadata": {
    "pycharm": {
     "name": "#%%\n"
    }
   },
   "outputs": [],
   "source": [
    "connection = {\n",
    "              'host': 'https://clickhouse.lab.karpov.courses',\n",
    "              'database':'simulator_20221120',\n",
    "              'user':'student', \n",
    "              'password':'dpo_python_2020'\n",
    "              }"
   ]
  },
  {
   "cell_type": "code",
   "execution_count": 58,
   "id": "5a58a6a1",
   "metadata": {
    "pycharm": {
     "name": "#%%\n"
    }
   },
   "outputs": [],
   "source": [
    "query = \"\"\"\n",
    "SELECT \n",
    "  user_id,\n",
    "  exp_group,\n",
    "  CTR,\n",
    "  global_ctr,\n",
    "  likes,\n",
    "  views,\n",
    "  (likes + 5 * global_ctr) / (views + 5) as smoothed_ctr\n",
    "FROM (\n",
    "      SELECT \n",
    "        l.user_id as user_id,\n",
    "        l.exp_group as exp_group,\n",
    "        l.CTR as CTR,\n",
    "        r.global_ctr as global_ctr,\n",
    "        l.likes as likes,\n",
    "        l.views as views\n",
    "      FROM (\n",
    "            SELECT \n",
    "              user_id,\n",
    "              exp_group,\n",
    "              sum(action = 'like') / sum(action = 'view') as CTR,\n",
    "              sum(action = 'like') as likes,\n",
    "              sum(action = 'view') as views\n",
    "            FROM simulator_20221120.feed_actions \n",
    "            WHERE toDate(time) >= '2022-11-02' and toDate(time) <= '2022-11-08' and exp_group in [1, 2]\n",
    "            GROUP BY user_id, exp_group\n",
    "            ) as l\n",
    "      JOIN (\n",
    "            SELECT \n",
    "              exp_group,\n",
    "              sum(action = 'like') / sum(action = 'view') as global_ctr\n",
    "            FROM simulator_20221120.feed_actions \n",
    "            WHERE toDate(time) >= '2022-11-02' and toDate(time) <= '2022-11-08' and exp_group in [1, 2]\n",
    "            GROUP BY exp_group\n",
    "            ) as r \n",
    "      ON l.exp_group = r.exp_group\n",
    "      )\n",
    "\"\"\""
   ]
  },
  {
   "cell_type": "code",
   "execution_count": 59,
   "id": "bba0cf36",
   "metadata": {
    "pycharm": {
     "name": "#%%\n"
    }
   },
   "outputs": [],
   "source": [
    "df = ph.read_clickhouse(query, connection=connection)"
   ]
  },
  {
   "cell_type": "code",
   "execution_count": 60,
   "id": "13b462ad",
   "metadata": {
    "pycharm": {
     "name": "#%%\n"
    }
   },
   "outputs": [
    {
     "data": {
      "text/html": [
       "<div>\n",
       "<style scoped>\n",
       "    .dataframe tbody tr th:only-of-type {\n",
       "        vertical-align: middle;\n",
       "    }\n",
       "\n",
       "    .dataframe tbody tr th {\n",
       "        vertical-align: top;\n",
       "    }\n",
       "\n",
       "    .dataframe thead th {\n",
       "        text-align: right;\n",
       "    }\n",
       "</style>\n",
       "<table border=\"1\" class=\"dataframe\">\n",
       "  <thead>\n",
       "    <tr style=\"text-align: right;\">\n",
       "      <th></th>\n",
       "      <th>user_id</th>\n",
       "      <th>exp_group</th>\n",
       "      <th>CTR</th>\n",
       "      <th>global_ctr</th>\n",
       "      <th>likes</th>\n",
       "      <th>views</th>\n",
       "      <th>smoothed_ctr</th>\n",
       "    </tr>\n",
       "  </thead>\n",
       "  <tbody>\n",
       "    <tr>\n",
       "      <th>0</th>\n",
       "      <td>109963</td>\n",
       "      <td>1</td>\n",
       "      <td>0.200000</td>\n",
       "      <td>0.208027</td>\n",
       "      <td>3</td>\n",
       "      <td>15</td>\n",
       "      <td>0.202007</td>\n",
       "    </tr>\n",
       "    <tr>\n",
       "      <th>1</th>\n",
       "      <td>26117</td>\n",
       "      <td>1</td>\n",
       "      <td>0.226950</td>\n",
       "      <td>0.208027</td>\n",
       "      <td>32</td>\n",
       "      <td>141</td>\n",
       "      <td>0.226302</td>\n",
       "    </tr>\n",
       "    <tr>\n",
       "      <th>2</th>\n",
       "      <td>138232</td>\n",
       "      <td>1</td>\n",
       "      <td>0.246575</td>\n",
       "      <td>0.208027</td>\n",
       "      <td>18</td>\n",
       "      <td>73</td>\n",
       "      <td>0.244104</td>\n",
       "    </tr>\n",
       "    <tr>\n",
       "      <th>3</th>\n",
       "      <td>26295</td>\n",
       "      <td>1</td>\n",
       "      <td>0.270492</td>\n",
       "      <td>0.208027</td>\n",
       "      <td>33</td>\n",
       "      <td>122</td>\n",
       "      <td>0.268033</td>\n",
       "    </tr>\n",
       "    <tr>\n",
       "      <th>4</th>\n",
       "      <td>18392</td>\n",
       "      <td>1</td>\n",
       "      <td>0.218750</td>\n",
       "      <td>0.208027</td>\n",
       "      <td>7</td>\n",
       "      <td>32</td>\n",
       "      <td>0.217301</td>\n",
       "    </tr>\n",
       "  </tbody>\n",
       "</table>\n",
       "</div>"
      ],
      "text/plain": [
       "   user_id  exp_group       CTR  global_ctr  likes  views  smoothed_ctr\n",
       "0   109963          1  0.200000    0.208027      3     15      0.202007\n",
       "1    26117          1  0.226950    0.208027     32    141      0.226302\n",
       "2   138232          1  0.246575    0.208027     18     73      0.244104\n",
       "3    26295          1  0.270492    0.208027     33    122      0.268033\n",
       "4    18392          1  0.218750    0.208027      7     32      0.217301"
      ]
     },
     "execution_count": 60,
     "metadata": {},
     "output_type": "execute_result"
    }
   ],
   "source": [
    "df.head()"
   ]
  },
  {
   "cell_type": "markdown",
   "id": "32f959c3",
   "metadata": {},
   "source": [
    "### Первый взгляд на данные, визуализация"
   ]
  },
  {
   "cell_type": "markdown",
   "id": "bb113215",
   "metadata": {
    "pycharm": {
     "name": "#%% md\n"
    }
   },
   "source": [
    "Перед проведением статистических тестов посмотрим на получившиеся данные. Это поможет сделать предварительные выводы и выбрать стат.тест. "
   ]
  },
  {
   "cell_type": "code",
   "execution_count": 61,
   "id": "6e102a8e",
   "metadata": {
    "pycharm": {
     "name": "#%%\n"
    }
   },
   "outputs": [
    {
     "data": {
      "text/plain": [
       "<AxesSubplot:xlabel='CTR', ylabel='Count'>"
      ]
     },
     "execution_count": 61,
     "metadata": {},
     "output_type": "execute_result"
    },
    {
     "data": {
      "image/png": "[encoded data removed]",
      "text/plain": [
       "<Figure size 1080x720 with 1 Axes>"
      ]
     },
     "metadata": {},
     "output_type": "display_data"
    }
   ],
   "source": [
    "plt.figure(figsize=(15,10))\n",
    "sns.histplot(data=df, x='CTR', hue='exp_group')"
   ]
  },
  {
   "cell_type": "code",
   "execution_count": 62,
   "id": "07135748",
   "metadata": {},
   "outputs": [
    {
     "data": {
      "text/plain": [
       "<AxesSubplot:xlabel='smoothed_ctr', ylabel='Count'>"
      ]
     },
     "execution_count": 62,
     "metadata": {},
     "output_type": "execute_result"
    },
    {
     "data": {
      "image/png": "[encoded data removed]",
      "text/plain": [
       "<Figure size 1080x720 with 1 Axes>"
      ]
     },
     "metadata": {},
     "output_type": "display_data"
    }
   ],
   "source": [
    "plt.figure(figsize=(15,10))\n",
    "sns.histplot(data=df, x='smoothed_ctr', hue='exp_group')"
   ]
  },
  {
   "cell_type": "markdown",
   "id": "cb9b45c0",
   "metadata": {
    "pycharm": {
     "name": "#%% md\n"
    }
   },
   "source": [
    "####  Предварительные выводы:\n",
    "\n",
    "1) Введение новой рекомендательный системы точно значимо повлияло на CTR\n",
    "\n",
    "2) Форма распределения тестовой группы говорит о том, что стоит крепко задуматься над примененнием стат.тестов\n",
    "\n",
    "3) Формы распределений сглаженного и обычного CTR, на первый взгляд, значимо не различаются, поэтому применть для анализа сглаженный CTR нецелесообразно из-за его непрогнозируемых особенностей\n",
    "\n",
    "4) Бимодальность распределения подталкивает к дополнительному анализу \"холмов\", возможно это две отдельные группы пользователей, имеющие сходства, и на эти группы по разному повлияли нововведения "
   ]
  },
  {
   "cell_type": "markdown",
   "id": "452aee02",
   "metadata": {},
   "source": [
    "## Посмотрим на описательные характеристики распределенеий "
   ]
  },
  {
   "cell_type": "code",
   "execution_count": 112,
   "id": "6eac8ac8",
   "metadata": {},
   "outputs": [
    {
     "data": {
      "text/html": [
       "<div>\n",
       "<style scoped>\n",
       "    .dataframe tbody tr th:only-of-type {\n",
       "        vertical-align: middle;\n",
       "    }\n",
       "\n",
       "    .dataframe tbody tr th {\n",
       "        vertical-align: top;\n",
       "    }\n",
       "\n",
       "    .dataframe thead th {\n",
       "        text-align: right;\n",
       "    }\n",
       "</style>\n",
       "<table border=\"1\" class=\"dataframe\">\n",
       "  <thead>\n",
       "    <tr style=\"text-align: right;\">\n",
       "      <th></th>\n",
       "      <th>exp_group</th>\n",
       "      <th>global_ctr</th>\n",
       "      <th>mean_ctr_by_user</th>\n",
       "    </tr>\n",
       "  </thead>\n",
       "  <tbody>\n",
       "    <tr>\n",
       "      <th>0</th>\n",
       "      <td>1</td>\n",
       "      <td>0.208027</td>\n",
       "      <td>0.215605</td>\n",
       "    </tr>\n",
       "    <tr>\n",
       "      <th>1</th>\n",
       "      <td>2</td>\n",
       "      <td>0.198060</td>\n",
       "      <td>0.214419</td>\n",
       "    </tr>\n",
       "  </tbody>\n",
       "</table>\n",
       "</div>"
      ],
      "text/plain": [
       "   exp_group  global_ctr  mean_ctr_by_user\n",
       "0          1    0.208027          0.215605\n",
       "1          2    0.198060          0.214419"
      ]
     },
     "execution_count": 112,
     "metadata": {},
     "output_type": "execute_result"
    }
   ],
   "source": [
    "df \\\n",
    "    .groupby('exp_group', as_index=False) \\\n",
    "    .agg({'global_ctr':'mean','CTR':'mean'}) \\\n",
    "    .rename(columns={'CTR':'mean_ctr_by_user'})"
   ]
  },
  {
   "cell_type": "markdown",
   "id": "59545e00",
   "metadata": {},
   "source": [
    "Видно, что CTR уменьшился, что в сумме с визуальной картинкой и характером распределений уже достаточно, чтобы отвергнуть нововведения"
   ]
  },
  {
   "cell_type": "markdown",
   "id": "8b20a46e",
   "metadata": {},
   "source": [
    "## Посмотрим как отработают статистические тесты "
   ]
  },
  {
   "cell_type": "markdown",
   "id": "911e9ec4",
   "metadata": {},
   "source": [
    "### T-test"
   ]
  },
  {
   "cell_type": "code",
   "execution_count": 47,
   "id": "a2041b77",
   "metadata": {},
   "outputs": [
    {
     "data": {
      "text/plain": [
       "Ttest_indResult(statistic=0.7094392041270485, pvalue=0.4780623130874935)"
      ]
     },
     "execution_count": 47,
     "metadata": {},
     "output_type": "execute_result"
    }
   ],
   "source": [
    "st.ttest_ind(df[df.exp_group==1].CTR, df[df.exp_group==2].CTR, equal_var=False)"
   ]
  },
  {
   "cell_type": "markdown",
   "id": "4f697c51",
   "metadata": {},
   "source": [
    "Тест показал равенство средних. Кажется, что, это не является достоверным результатом, тк высок риск неправильного срабатывания теста при таких исходных распределениях. На мой взгляд, применять его для исследования в данном случае не стоит."
   ]
  },
  {
   "cell_type": "markdown",
   "id": "6c66e942",
   "metadata": {},
   "source": [
    "### Манна-Уитни"
   ]
  },
  {
   "cell_type": "code",
   "execution_count": 48,
   "id": "8e7aa048",
   "metadata": {},
   "outputs": [
    {
     "data": {
      "text/plain": [
       "MannwhitneyuResult(statistic=56601260.5, pvalue=6.0376484617779035e-56)"
      ]
     },
     "execution_count": 48,
     "metadata": {},
     "output_type": "execute_result"
    }
   ],
   "source": [
    "st.mannwhitneyu(df[df.exp_group==1].CTR, df[df.exp_group==2].CTR)"
   ]
  },
  {
   "cell_type": "markdown",
   "id": "cb5b12b4",
   "metadata": {},
   "source": [
    "Тест показывает разницу в поюзерном CTR, при этом сложно по другому интерпретировать результаты. Учитывая, что нас больше интересует глобальный CTR по группам, следует поискать альтернативу."
   ]
  },
  {
   "cell_type": "markdown",
   "id": "e71f2ff7",
   "metadata": {},
   "source": [
    "### Пуассоновский бутсрэп"
   ]
  },
  {
   "cell_type": "markdown",
   "id": "afbdcf15",
   "metadata": {},
   "source": [
    "В данном случае очевидны преимущества перед предыдущими методами: неприхотливость к распределениям, возможность подсчета любой метрики и простая интерпретируемость результатов. Будем считать, что главное условие по репрезентативности выборок выполняется. "
   ]
  },
  {
   "cell_type": "code",
   "execution_count": 78,
   "id": "d3b75136",
   "metadata": {},
   "outputs": [],
   "source": [
    "def bootstrap(likes1, views1, likes2, views2, n_bootstrap=10000):\n",
    "\n",
    "    poisson_bootstraps1 = st.poisson(1).rvs(\n",
    "        (n_bootstrap, len(likes1))).astype(np.int64)\n",
    "\n",
    "    poisson_bootstraps2 = st.poisson(1).rvs(\n",
    "            (n_bootstrap, len(likes2))).astype(np.int64)\n",
    "    \n",
    "    globalCTR1 = (poisson_bootstraps1*likes1).sum(axis=1)/(poisson_bootstraps1*views1).sum(axis=1)\n",
    "    \n",
    "    globalCTR2 = (poisson_bootstraps2*likes2).sum(axis=1)/(poisson_bootstraps2*views2).sum(axis=1)\n",
    "\n",
    "    return globalCTR1, globalCTR2"
   ]
  },
  {
   "cell_type": "code",
   "execution_count": 79,
   "id": "df87b59c",
   "metadata": {},
   "outputs": [],
   "source": [
    "likes1 = df[df.exp_group == 1].likes.to_numpy()\n",
    "views1 = df[df.exp_group == 1].views.to_numpy()\n",
    "likes2 = df[df.exp_group == 2].likes.to_numpy()\n",
    "views2 = df[df.exp_group == 2].views.to_numpy()"
   ]
  },
  {
   "cell_type": "code",
   "execution_count": 80,
   "id": "ebac0fc8",
   "metadata": {},
   "outputs": [],
   "source": [
    "ctr1, ctr2 = bootstrap(likes1, views1, likes2, views2)"
   ]
  },
  {
   "cell_type": "code",
   "execution_count": 83,
   "id": "5a57a77d",
   "metadata": {},
   "outputs": [
    {
     "data": {
      "text/plain": [
       "<AxesSubplot:ylabel='Count'>"
      ]
     },
     "execution_count": 83,
     "metadata": {},
     "output_type": "execute_result"
    },
    {
     "data": {
      "image/png": "[encoded data removed]",
      "text/plain": [
       "<Figure size 1080x720 with 1 Axes>"
      ]
     },
     "metadata": {},
     "output_type": "display_data"
    }
   ],
   "source": [
    "plt.figure(figsize=(15,10))\n",
    "sns.histplot(ctr1)\n",
    "sns.histplot(ctr2)"
   ]
  },
  {
   "cell_type": "code",
   "execution_count": 85,
   "id": "a14348d1",
   "metadata": {},
   "outputs": [
    {
     "data": {
      "text/plain": [
       "Text(0.5, 1.0, 'CTR1-CTR2')"
      ]
     },
     "execution_count": 85,
     "metadata": {},
     "output_type": "execute_result"
    },
    {
     "data": {
      "image/png": "[encoded data removed]",
      "text/plain": [
       "<Figure size 1080x720 with 1 Axes>"
      ]
     },
     "metadata": {},
     "output_type": "display_data"
    }
   ],
   "source": [
    "plt.figure(figsize=(15,10))\n",
    "sns.histplot(ctr2-ctr1)\n",
    "plt.title('CTR1-CTR2')"
   ]
  },
  {
   "cell_type": "markdown",
   "id": "d3ac8b33",
   "metadata": {},
   "source": [
    "Видим, что глобальный CTR по группам значимо различается, разница не \"цепляет\" 0. Новая рекомендательная система привела к падению глобального CTR."
   ]
  },
  {
   "cell_type": "markdown",
   "id": "2b06b4f3",
   "metadata": {},
   "source": [
    "#### В качестве метода для исследования, в данном случае, пуассоновский бутстрэп показал себя более надежным"
   ]
  },
  {
   "cell_type": "markdown",
   "id": "44118f01",
   "metadata": {},
   "source": [
    "## Бакетное преобразование"
   ]
  },
  {
   "cell_type": "code",
   "execution_count": 94,
   "id": "963d95c2",
   "metadata": {},
   "outputs": [],
   "source": [
    "q = \"\"\"\n",
    "SELECT \n",
    "    exp_group, \n",
    "    bucket,\n",
    "    sum(likes)/sum(views) as bucket_ctr\n",
    "FROM (\n",
    "    SELECT \n",
    "        exp_group, \n",
    "        xxHash64(user_id)%50 as bucket,\n",
    "        user_id,\n",
    "        sum(action = 'like') as likes,\n",
    "        sum(action = 'view') as views,\n",
    "        likes/views as ctr\n",
    "    FROM {db}.feed_actions \n",
    "    WHERE toDate(time) between '2022-11-02' and '2022-11-08' and exp_group in (1,2)\n",
    "    GROUP BY exp_group, bucket, user_id\n",
    "    )\n",
    "GROUP BY exp_group, bucket\n",
    "\"\"\""
   ]
  },
  {
   "cell_type": "code",
   "execution_count": 95,
   "id": "4a8f28dc",
   "metadata": {},
   "outputs": [],
   "source": [
    "df_2 = ph.read_clickhouse(q, connection=connection)"
   ]
  },
  {
   "cell_type": "code",
   "execution_count": 98,
   "id": "5bc21461",
   "metadata": {},
   "outputs": [
    {
     "data": {
      "text/html": [
       "<div>\n",
       "<style scoped>\n",
       "    .dataframe tbody tr th:only-of-type {\n",
       "        vertical-align: middle;\n",
       "    }\n",
       "\n",
       "    .dataframe tbody tr th {\n",
       "        vertical-align: top;\n",
       "    }\n",
       "\n",
       "    .dataframe thead th {\n",
       "        text-align: right;\n",
       "    }\n",
       "</style>\n",
       "<table border=\"1\" class=\"dataframe\">\n",
       "  <thead>\n",
       "    <tr style=\"text-align: right;\">\n",
       "      <th></th>\n",
       "      <th>exp_group</th>\n",
       "      <th>bucket</th>\n",
       "      <th>bucket_ctr</th>\n",
       "    </tr>\n",
       "  </thead>\n",
       "  <tbody>\n",
       "    <tr>\n",
       "      <th>0</th>\n",
       "      <td>1</td>\n",
       "      <td>0</td>\n",
       "      <td>0.196481</td>\n",
       "    </tr>\n",
       "    <tr>\n",
       "      <th>1</th>\n",
       "      <td>2</td>\n",
       "      <td>0</td>\n",
       "      <td>0.194262</td>\n",
       "    </tr>\n",
       "    <tr>\n",
       "      <th>2</th>\n",
       "      <td>1</td>\n",
       "      <td>1</td>\n",
       "      <td>0.211887</td>\n",
       "    </tr>\n",
       "    <tr>\n",
       "      <th>3</th>\n",
       "      <td>2</td>\n",
       "      <td>1</td>\n",
       "      <td>0.215328</td>\n",
       "    </tr>\n",
       "    <tr>\n",
       "      <th>4</th>\n",
       "      <td>1</td>\n",
       "      <td>2</td>\n",
       "      <td>0.206271</td>\n",
       "    </tr>\n",
       "  </tbody>\n",
       "</table>\n",
       "</div>"
      ],
      "text/plain": [
       "   exp_group  bucket  bucket_ctr\n",
       "0          1       0    0.196481\n",
       "1          2       0    0.194262\n",
       "2          1       1    0.211887\n",
       "3          2       1    0.215328\n",
       "4          1       2    0.206271"
      ]
     },
     "execution_count": 98,
     "metadata": {},
     "output_type": "execute_result"
    }
   ],
   "source": [
    "df_2.head()"
   ]
  },
  {
   "cell_type": "code",
   "execution_count": 104,
   "id": "3f07024c",
   "metadata": {},
   "outputs": [
    {
     "data": {
      "text/plain": [
       "<seaborn.axisgrid.FacetGrid at 0x7fb85f103f40>"
      ]
     },
     "execution_count": 104,
     "metadata": {},
     "output_type": "execute_result"
    },
    {
     "data": {
      "image/png": "[encoded data removed]",
      "text/plain": [
       "<Figure size 962.45x720 with 1 Axes>"
      ]
     },
     "metadata": {},
     "output_type": "display_data"
    }
   ],
   "source": [
    "sns.displot(data=df_2, x='bucket_ctr', hue='exp_group', aspect=1.2, height=10)"
   ]
  },
  {
   "cell_type": "markdown",
   "id": "888fdbf5",
   "metadata": {},
   "source": [
    "Бакетное преобразование позволяет \"нормализовать\" данные и сделать их более пригодными к анализу"
   ]
  },
  {
   "cell_type": "markdown",
   "id": "836e4de6",
   "metadata": {},
   "source": [
    "Распределения бакетного CTR хотя бы являются унимодальными, возможно, t-тест сможет хорошо отработать.  "
   ]
  },
  {
   "cell_type": "code",
   "execution_count": 105,
   "id": "7d9bea46",
   "metadata": {},
   "outputs": [
    {
     "data": {
      "text/plain": [
       "Ttest_indResult(statistic=5.668234732053979, pvalue=3.4455951649945907e-07)"
      ]
     },
     "execution_count": 105,
     "metadata": {},
     "output_type": "execute_result"
    }
   ],
   "source": [
    "st.ttest_ind(df_2[df_2.exp_group==1].bucket_ctr, df_2[df_2.exp_group==2].bucket_ctr, equal_var=False)"
   ]
  },
  {
   "cell_type": "code",
   "execution_count": 107,
   "id": "e0f3f15d",
   "metadata": {},
   "outputs": [
    {
     "data": {
      "text/plain": [
       "MannwhitneyuResult(statistic=1995.0, pvalue=2.859963936492646e-07)"
      ]
     },
     "execution_count": 107,
     "metadata": {},
     "output_type": "execute_result"
    }
   ],
   "source": [
    "st.mannwhitneyu(df_2[df_2.exp_group==1].bucket_ctr, df_2[df_2.exp_group==2].bucket_ctr, alternative='two-sided')"
   ]
  },
  {
   "cell_type": "markdown",
   "id": "4251a4d0",
   "metadata": {},
   "source": [
    "Оба теста уловили значимые различия с p_value одного порядка. \n",
    "\n",
    "#### Все отработало корректно"
   ]
  },
  {
   "cell_type": "markdown",
   "id": "b7f226d8",
   "metadata": {},
   "source": [
    "## Вывод\n",
    "\n",
    "Перед проведением статистических тестов всегда важно посмотреть на полученные данные. Это поможет 1) выбрать статистический тест; 2) сделать предварительные выводы;\n",
    "\n",
    "В нашем случае предварительный анализ графиков показал, что различия между группами существенные, а также какие именно это различия. В тестовой группе пользователи разделились на две части - часть из них (большая) стала лайкать меньше, оставшаяся часть - больше. Такое поведение не является желаемым в контексте нашей задачи, что уже говорит о негативном влиянии новой фичи. Если в дополнениии к этому просто посмотреть на глобальный CTR, на то, как изменился глобальный CTR по группам (а он уменьшился), то по уже имеющимся данным можно отвергнуть новую рекомендательную систему на выводах только визуализации.\n",
    "\n",
    "При необходимости более точного исследования статистический тест нужно выбирать осторожно, исходя из форм распредлений, количества данных и особенностей задачи. В нашем случае применение t-теста напрямую могло привести к ошибочным результатам, оптимальным является применение бакетного преобразования либо пуассоновского бутспрэпа (при таком количестве данных он не занимает много времени).\n",
    "\n",
    "Ну, а новую рекомендательную систему выпускать в продакшн точно не стоит. "
   ]
  },
  {
   "cell_type": "code",
   "execution_count": null,
   "id": "19d1c786",
   "metadata": {},
   "outputs": [],
   "source": []
  }
 ],
 "metadata": {
  "kernelspec": {
   "display_name": "Python 3 (ipykernel)",
   "language": "python",
   "name": "python3"
  },
  "language_info": {
   "codemirror_mode": {
    "name": "ipython",
    "version": 3
   },
   "file_extension": ".py",
   "mimetype": "text/x-python",
   "name": "python",
   "nbconvert_exporter": "python",
   "pygments_lexer": "ipython3",
   "version": "3.9.12"
  }
 },
 "nbformat": 4,
 "nbformat_minor": 5
}
